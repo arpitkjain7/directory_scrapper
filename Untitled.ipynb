{
 "cells": [
  {
   "cell_type": "code",
   "execution_count": 1,
   "id": "bibliographic-removal",
   "metadata": {},
   "outputs": [],
   "source": [
    "url = \"https://www.deldure.com/s?query=auditoriums&page=8\""
   ]
  },
  {
   "cell_type": "code",
   "execution_count": 4,
   "id": "flush-thirty",
   "metadata": {},
   "outputs": [
    {
     "data": {
      "text/plain": [
       "'8'"
      ]
     },
     "execution_count": 4,
     "metadata": {},
     "output_type": "execute_result"
    }
   ],
   "source": [
    "url.split(\"page=\")[-1]"
   ]
  },
  {
   "cell_type": "code",
   "execution_count": 5,
   "id": "australian-lewis",
   "metadata": {},
   "outputs": [],
   "source": [
    "old_url = \"https://www.deldure.com/s?query=auditoriums\""
   ]
  },
  {
   "cell_type": "code",
   "execution_count": 6,
   "id": "dutch-deployment",
   "metadata": {},
   "outputs": [],
   "source": [
    "page_num = 8"
   ]
  },
  {
   "cell_type": "code",
   "execution_count": 7,
   "id": "native-definition",
   "metadata": {},
   "outputs": [],
   "source": [
    "new_url = old_url+f\"&page={page_num}\""
   ]
  },
  {
   "cell_type": "code",
   "execution_count": 8,
   "id": "sealed-opportunity",
   "metadata": {},
   "outputs": [
    {
     "data": {
      "text/plain": [
       "'https://www.deldure.com/s?query=auditoriums&page=8'"
      ]
     },
     "execution_count": 8,
     "metadata": {},
     "output_type": "execute_result"
    }
   ],
   "source": [
    "new_url"
   ]
  },
  {
   "cell_type": "code",
   "execution_count": null,
   "id": "invalid-resource",
   "metadata": {},
   "outputs": [],
   "source": []
  }
 ],
 "metadata": {
  "kernelspec": {
   "display_name": "Python 3",
   "language": "python",
   "name": "python3"
  },
  "language_info": {
   "codemirror_mode": {
    "name": "ipython",
    "version": 3
   },
   "file_extension": ".py",
   "mimetype": "text/x-python",
   "name": "python",
   "nbconvert_exporter": "python",
   "pygments_lexer": "ipython3",
   "version": "3.8.7"
  }
 },
 "nbformat": 4,
 "nbformat_minor": 5
}
