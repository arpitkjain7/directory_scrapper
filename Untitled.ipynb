{
 "cells": [
  {
   "cell_type": "code",
   "execution_count": 1,
   "id": "czech-abuse",
   "metadata": {},
   "outputs": [],
   "source": [
    "url = \"https://www.deldure.com/s?query=auditoriums&page=8\""
   ]
  },
  {
   "cell_type": "code",
   "execution_count": 4,
   "id": "prostate-update",
   "metadata": {},
   "outputs": [
    {
     "data": {
      "text/plain": [
       "'8'"
      ]
     },
     "execution_count": 4,
     "metadata": {},
     "output_type": "execute_result"
    }
   ],
   "source": [
    "url.split(\"page=\")[-1]"
   ]
  },
  {
   "cell_type": "code",
   "execution_count": 5,
   "id": "enormous-plain",
   "metadata": {},
   "outputs": [],
   "source": [
    "old_url = \"https://www.deldure.com/s?query=auditoriums\""
   ]
  },
  {
   "cell_type": "code",
   "execution_count": 6,
   "id": "indirect-training",
   "metadata": {},
   "outputs": [],
   "source": [
    "page_num = 8"
   ]
  },
  {
   "cell_type": "code",
   "execution_count": 7,
   "id": "activated-seeking",
   "metadata": {},
   "outputs": [],
   "source": [
    "new_url = old_url+f\"&page={page_num}\""
   ]
  },
  {
   "cell_type": "code",
   "execution_count": 8,
   "id": "included-schema",
   "metadata": {},
   "outputs": [
    {
     "data": {
      "text/plain": [
       "'https://www.deldure.com/s?query=auditoriums&page=8'"
      ]
     },
     "execution_count": 8,
     "metadata": {},
     "output_type": "execute_result"
    }
   ],
   "source": [
    "new_url"
   ]
  },
  {
   "cell_type": "code",
   "execution_count": 11,
   "id": "experimental-oxford",
   "metadata": {},
   "outputs": [],
   "source": [
    "def navigate_to_next_page(page_num, current_url):\n",
    "    print(f\"Navigating to page number {int(page_num)+1}\")\n",
    "    page = int(page_num)+1\n",
    "    next_page = current_url.replace(str(page_num), str(page))\n",
    "    # navigate_to_start_page(driver, int(start_page))\n",
    "    print(next_page)"
   ]
  },
  {
   "cell_type": "code",
   "execution_count": 14,
   "id": "medium-generator",
   "metadata": {},
   "outputs": [
    {
     "name": "stdout",
     "output_type": "stream",
     "text": [
      "Navigating to page number 3\n",
      "https://www.deldure.com/s?query=auditoriums&page=3\n"
     ]
    }
   ],
   "source": [
    "navigate_to_next_page(2,'https://www.deldure.com/s?query=auditoriums&page=2')"
   ]
  },
  {
   "cell_type": "code",
   "execution_count": null,
   "id": "martial-wednesday",
   "metadata": {},
   "outputs": [],
   "source": []
  },
  {
   "cell_type": "code",
   "execution_count": 15,
   "id": "annoying-switch",
   "metadata": {},
   "outputs": [],
   "source": [
    "test = False"
   ]
  },
  {
   "cell_type": "code",
   "execution_count": 16,
   "id": "educational-survival",
   "metadata": {},
   "outputs": [
    {
     "name": "stdout",
     "output_type": "stream",
     "text": [
      "1\n"
     ]
    }
   ],
   "source": [
    "if not test:\n",
    "    print('1')"
   ]
  },
  {
   "cell_type": "code",
   "execution_count": 3,
   "id": "permanent-monitor",
   "metadata": {},
   "outputs": [],
   "source": [
    "from datetime import datetime"
   ]
  },
  {
   "cell_type": "code",
   "execution_count": 4,
   "id": "emerging-permit",
   "metadata": {},
   "outputs": [],
   "source": [
    "batch_id = str(int(datetime.now().timestamp() * 1000))"
   ]
  },
  {
   "cell_type": "code",
   "execution_count": 5,
   "id": "boxed-technician",
   "metadata": {},
   "outputs": [
    {
     "data": {
      "text/plain": [
       "'1614917802879'"
      ]
     },
     "execution_count": 5,
     "metadata": {},
     "output_type": "execute_result"
    }
   ],
   "source": [
    "batch_id"
   ]
  },
  {
   "cell_type": "code",
   "execution_count": 10,
   "id": "defensive-strain",
   "metadata": {},
   "outputs": [
    {
     "data": {
      "text/plain": [
       "'2879'"
      ]
     },
     "execution_count": 10,
     "metadata": {},
     "output_type": "execute_result"
    }
   ],
   "source": [
    "batch_id[-4:]"
   ]
  },
  {
   "cell_type": "code",
   "execution_count": null,
   "id": "israeli-french",
   "metadata": {},
   "outputs": [],
   "source": []
  }
 ],
 "metadata": {
  "kernelspec": {
   "display_name": "Python 3",
   "language": "python",
   "name": "python3"
  },
  "language_info": {
   "codemirror_mode": {
    "name": "ipython",
    "version": 3
   },
   "file_extension": ".py",
   "mimetype": "text/x-python",
   "name": "python",
   "nbconvert_exporter": "python",
   "pygments_lexer": "ipython3",
   "version": "3.8.7"
  }
 },
 "nbformat": 4,
 "nbformat_minor": 5
}
